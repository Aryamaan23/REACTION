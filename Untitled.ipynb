{
 "cells": [
  {
   "cell_type": "code",
   "execution_count": 1,
   "metadata": {},
   "outputs": [],
   "source": [
    "import pandas as pd\n"
   ]
  },
  {
   "cell_type": "code",
   "execution_count": 3,
   "metadata": {},
   "outputs": [],
   "source": [
    "data=pd.read_csv('Train_Loan_Home.csv')"
   ]
  },
  {
   "cell_type": "code",
   "execution_count": 4,
   "metadata": {},
   "outputs": [
    {
     "data": {
      "text/html": [
       "<div>\n",
       "<style scoped>\n",
       "    .dataframe tbody tr th:only-of-type {\n",
       "        vertical-align: middle;\n",
       "    }\n",
       "\n",
       "    .dataframe tbody tr th {\n",
       "        vertical-align: top;\n",
       "    }\n",
       "\n",
       "    .dataframe thead th {\n",
       "        text-align: right;\n",
       "    }\n",
       "</style>\n",
       "<table border=\"1\" class=\"dataframe\">\n",
       "  <thead>\n",
       "    <tr style=\"text-align: right;\">\n",
       "      <th></th>\n",
       "      <th>Loan_ID</th>\n",
       "      <th>Gender</th>\n",
       "      <th>Married</th>\n",
       "      <th>Dependents</th>\n",
       "      <th>Education</th>\n",
       "      <th>Self_Employed</th>\n",
       "      <th>ApplicantIncome</th>\n",
       "      <th>CoapplicantIncome</th>\n",
       "      <th>LoanAmount</th>\n",
       "      <th>Loan_Amount_Term</th>\n",
       "      <th>Credit_History</th>\n",
       "      <th>Property_Area</th>\n",
       "      <th>Loan_Status</th>\n",
       "    </tr>\n",
       "  </thead>\n",
       "  <tbody>\n",
       "    <tr>\n",
       "      <th>0</th>\n",
       "      <td>LP001002</td>\n",
       "      <td>Male</td>\n",
       "      <td>No</td>\n",
       "      <td>0</td>\n",
       "      <td>Graduate</td>\n",
       "      <td>No</td>\n",
       "      <td>5849</td>\n",
       "      <td>0.0</td>\n",
       "      <td>NaN</td>\n",
       "      <td>360.0</td>\n",
       "      <td>1.0</td>\n",
       "      <td>Urban</td>\n",
       "      <td>Y</td>\n",
       "    </tr>\n",
       "    <tr>\n",
       "      <th>1</th>\n",
       "      <td>LP001003</td>\n",
       "      <td>Male</td>\n",
       "      <td>Yes</td>\n",
       "      <td>1</td>\n",
       "      <td>Graduate</td>\n",
       "      <td>No</td>\n",
       "      <td>4583</td>\n",
       "      <td>1508.0</td>\n",
       "      <td>128.0</td>\n",
       "      <td>360.0</td>\n",
       "      <td>1.0</td>\n",
       "      <td>Rural</td>\n",
       "      <td>N</td>\n",
       "    </tr>\n",
       "    <tr>\n",
       "      <th>2</th>\n",
       "      <td>LP001005</td>\n",
       "      <td>Male</td>\n",
       "      <td>Yes</td>\n",
       "      <td>0</td>\n",
       "      <td>Graduate</td>\n",
       "      <td>Yes</td>\n",
       "      <td>3000</td>\n",
       "      <td>0.0</td>\n",
       "      <td>66.0</td>\n",
       "      <td>360.0</td>\n",
       "      <td>1.0</td>\n",
       "      <td>Urban</td>\n",
       "      <td>Y</td>\n",
       "    </tr>\n",
       "    <tr>\n",
       "      <th>3</th>\n",
       "      <td>LP001006</td>\n",
       "      <td>Male</td>\n",
       "      <td>Yes</td>\n",
       "      <td>0</td>\n",
       "      <td>Not Graduate</td>\n",
       "      <td>No</td>\n",
       "      <td>2583</td>\n",
       "      <td>2358.0</td>\n",
       "      <td>120.0</td>\n",
       "      <td>360.0</td>\n",
       "      <td>1.0</td>\n",
       "      <td>Urban</td>\n",
       "      <td>Y</td>\n",
       "    </tr>\n",
       "    <tr>\n",
       "      <th>4</th>\n",
       "      <td>LP001008</td>\n",
       "      <td>Male</td>\n",
       "      <td>No</td>\n",
       "      <td>0</td>\n",
       "      <td>Graduate</td>\n",
       "      <td>No</td>\n",
       "      <td>6000</td>\n",
       "      <td>0.0</td>\n",
       "      <td>141.0</td>\n",
       "      <td>360.0</td>\n",
       "      <td>1.0</td>\n",
       "      <td>Urban</td>\n",
       "      <td>Y</td>\n",
       "    </tr>\n",
       "  </tbody>\n",
       "</table>\n",
       "</div>"
      ],
      "text/plain": [
       "    Loan_ID Gender Married Dependents     Education Self_Employed  \\\n",
       "0  LP001002   Male      No          0      Graduate            No   \n",
       "1  LP001003   Male     Yes          1      Graduate            No   \n",
       "2  LP001005   Male     Yes          0      Graduate           Yes   \n",
       "3  LP001006   Male     Yes          0  Not Graduate            No   \n",
       "4  LP001008   Male      No          0      Graduate            No   \n",
       "\n",
       "   ApplicantIncome  CoapplicantIncome  LoanAmount  Loan_Amount_Term  \\\n",
       "0             5849                0.0         NaN             360.0   \n",
       "1             4583             1508.0       128.0             360.0   \n",
       "2             3000                0.0        66.0             360.0   \n",
       "3             2583             2358.0       120.0             360.0   \n",
       "4             6000                0.0       141.0             360.0   \n",
       "\n",
       "   Credit_History Property_Area Loan_Status  \n",
       "0             1.0         Urban           Y  \n",
       "1             1.0         Rural           N  \n",
       "2             1.0         Urban           Y  \n",
       "3             1.0         Urban           Y  \n",
       "4             1.0         Urban           Y  "
      ]
     },
     "execution_count": 4,
     "metadata": {},
     "output_type": "execute_result"
    }
   ],
   "source": [
    "data.head()"
   ]
  },
  {
   "cell_type": "code",
   "execution_count": 5,
   "metadata": {},
   "outputs": [],
   "source": [
    "columnsX=data.columns[1:-1]\n",
    "columnsY=data.columns[-1]"
   ]
  },
  {
   "cell_type": "code",
   "execution_count": 7,
   "metadata": {},
   "outputs": [
    {
     "data": {
      "text/plain": [
       "Loan_ID               0\n",
       "Gender               13\n",
       "Married               3\n",
       "Dependents           15\n",
       "Education             0\n",
       "Self_Employed        32\n",
       "ApplicantIncome       0\n",
       "CoapplicantIncome     0\n",
       "LoanAmount           22\n",
       "Loan_Amount_Term     14\n",
       "Credit_History       50\n",
       "Property_Area         0\n",
       "Loan_Status           0\n",
       "dtype: int64"
      ]
     },
     "execution_count": 7,
     "metadata": {},
     "output_type": "execute_result"
    }
   ],
   "source": [
    "data.isnull().sum()"
   ]
  },
  {
   "cell_type": "code",
   "execution_count": 8,
   "metadata": {},
   "outputs": [],
   "source": [
    "catCol=['Gender','Married','Education','Self_Employed','Property_Area','Dependents']\n",
    "numWithScalingCol=['ApplicantIncome','CoapplicantIncome','LoanAmount','Loan_Amount_Term']\n",
    "numerCol=['Credit_History']"
   ]
  },
  {
   "cell_type": "code",
   "execution_count": 11,
   "metadata": {},
   "outputs": [],
   "source": [
    "from sklearn.pipeline import Pipeline\n",
    "from sklearn.compose import ColumnTransformer\n",
    "from sklearn.impute import SimpleImputer\n",
    "from sklearn.preprocessing import StandardScaler,OneHotEncoder\n",
    "from sklearn import ensemble\n"
   ]
  },
  {
   "cell_type": "code",
   "execution_count": 14,
   "metadata": {},
   "outputs": [],
   "source": [
    "numeric_transformer_scaling=Pipeline(steps=[\n",
    "    ('imputer',SimpleImputer(strategy='median')),\n",
    "    ('scaler',StandardScaler())])\n",
    "numeric_transformer=Pipeline(steps=[\n",
    "    ('imputer',SimpleImputer(strategy='constant',fill_value=99))])\n",
    "categorical_transformer=Pipeline(steps=[\n",
    "    ('imputer',SimpleImputer(strategy='constant',fill_value='missing')),\n",
    "    ('onehot',OneHotEncoder(handle_unknown='ignore'))\n",
    "])\n",
    "\n",
    "preprocessor=ColumnTransformer(\n",
    "  transformers=[\n",
    "      ('num',numeric_transformer_scaling,numWithScalingCol),\n",
    "      ('num2',numeric_transformer,numerCol),\n",
    "      ('cat',categorical_transformer,catCol)])\n"
   ]
  },
  {
   "cell_type": "code",
   "execution_count": 15,
   "metadata": {},
   "outputs": [],
   "source": [
    "modelPipeline=Pipeline(steps=[('preprocessor',preprocessor),\n",
    "                             ('classifier',ensemble.RandomForestClassifier())])"
   ]
  },
  {
   "cell_type": "code",
   "execution_count": 16,
   "metadata": {},
   "outputs": [
    {
     "data": {
      "text/plain": [
       "Pipeline(steps=[('preprocessor',\n",
       "                 ColumnTransformer(transformers=[('num',\n",
       "                                                  Pipeline(steps=[('imputer',\n",
       "                                                                   SimpleImputer(strategy='median')),\n",
       "                                                                  ('scaler',\n",
       "                                                                   StandardScaler())]),\n",
       "                                                  ['ApplicantIncome',\n",
       "                                                   'CoapplicantIncome',\n",
       "                                                   'LoanAmount',\n",
       "                                                   'Loan_Amount_Term']),\n",
       "                                                 ('num2',\n",
       "                                                  Pipeline(steps=[('imputer',\n",
       "                                                                   SimpleImputer(fill_value=99,\n",
       "                                                                                 strategy='constant'))]),\n",
       "                                                  ['Credit_History']),\n",
       "                                                 ('cat',\n",
       "                                                  Pipeline(steps=[('imputer',\n",
       "                                                                   SimpleImputer(fill_value='missing',\n",
       "                                                                                 strategy='constant')),\n",
       "                                                                  ('onehot',\n",
       "                                                                   OneHotEncoder(handle_unknown='ignore'))]),\n",
       "                                                  ['Gender', 'Married',\n",
       "                                                   'Education', 'Self_Employed',\n",
       "                                                   'Property_Area',\n",
       "                                                   'Dependents'])])),\n",
       "                ('classifier', RandomForestClassifier())])"
      ]
     },
     "execution_count": 16,
     "metadata": {},
     "output_type": "execute_result"
    }
   ],
   "source": [
    "modelPipeline.fit(data[columnsX],data[columnsY])"
   ]
  },
  {
   "cell_type": "code",
   "execution_count": 17,
   "metadata": {},
   "outputs": [],
   "source": [
    "scores=modelPipeline.predict_proba(data[columnsX])[:,-1]"
   ]
  },
  {
   "cell_type": "code",
   "execution_count": 20,
   "metadata": {},
   "outputs": [
    {
     "data": {
      "text/plain": [
       "array([0.82, 0.86, 0.8 , 0.75, 0.51, 0.66, 0.65, 0.2 , 0.83, 0.95, 0.54,\n",
       "       0.8 , 0.77, 0.26, 0.79, 0.93, 0.79, 0.89, 0.71, 0.73, 0.89, 0.49,\n",
       "       0.35, 0.69, 0.7 , 0.41, 0.82, 0.63, 0.89, 0.83, 0.88, 0.99, 0.72,\n",
       "       0.8 , 0.94, 0.19, 0.83, 0.92, 0.78, 0.82, 0.83, 0.84, 0.87, 0.69,\n",
       "       0.82, 0.68, 0.67, 0.94, 0.76, 0.65, 0.81, 0.83, 0.58, 0.94, 0.81,\n",
       "       0.18, 0.84, 0.92, 0.23, 0.88, 0.96, 0.91, 0.63, 0.21, 0.59, 0.99,\n",
       "       0.14, 0.12, 0.63, 0.28, 0.81, 0.93, 0.74, 0.81, 0.77, 0.74, 0.74,\n",
       "       0.76, 0.71, 0.64, 0.38, 0.65, 0.15, 0.63, 0.34, 0.81, 0.78, 0.92,\n",
       "       0.84, 0.43, 0.88, 0.8 , 0.86, 0.79, 0.19, 0.71, 0.79, 0.96, 0.59,\n",
       "       0.49, 0.96, 0.16, 0.64, 0.47, 0.87, 0.88, 0.11, 0.82, 0.94, 0.52,\n",
       "       0.81, 0.9 , 0.91, 0.94, 0.85, 0.63, 0.7 , 0.33, 0.16, 0.27, 0.77,\n",
       "       0.96, 0.88, 0.4 , 0.18, 0.76, 0.14, 0.94, 0.77, 0.92, 0.91, 0.78,\n",
       "       0.75, 0.82, 0.61, 0.88, 0.78, 0.62, 0.68, 0.89, 0.63, 0.83, 0.29,\n",
       "       0.78, 0.81, 0.85, 0.76, 0.26, 0.95, 0.99, 0.67, 0.93, 0.98, 0.2 ,\n",
       "       0.72, 0.68, 0.81, 0.5 , 0.71, 0.36, 0.8 , 0.24, 0.93, 0.88, 0.6 ,\n",
       "       0.23, 0.12, 0.95, 0.31, 0.47, 0.88, 0.62, 0.81, 0.32, 0.17, 0.88,\n",
       "       0.73, 0.9 , 0.76, 0.73, 0.91, 0.88, 0.53, 0.51, 0.89, 0.74, 0.84,\n",
       "       0.95, 0.43, 0.71, 0.55, 0.78, 0.26, 0.17, 0.56, 0.78, 0.1 , 0.8 ,\n",
       "       0.16, 0.89, 0.64, 0.72, 0.93, 0.98, 0.86, 1.  , 0.7 , 0.88, 0.8 ,\n",
       "       0.49, 0.63, 0.31, 0.83, 0.96, 0.83, 0.65, 0.74, 0.65, 0.73, 0.8 ,\n",
       "       0.96, 0.75, 0.64, 0.7 , 0.34, 0.76, 1.  , 0.68, 0.81, 0.17, 0.6 ,\n",
       "       0.59, 0.76, 0.69, 0.66, 0.25, 0.29, 0.6 , 0.97, 0.34, 0.66, 0.1 ,\n",
       "       0.99, 0.29, 0.91, 0.25, 0.85, 0.93, 0.49, 0.71, 0.24, 0.88, 0.78,\n",
       "       0.89, 0.7 , 0.26, 0.34, 0.84, 0.97, 0.58, 0.74, 0.94, 0.68, 0.61,\n",
       "       0.71, 0.69, 0.23, 0.7 , 0.29, 0.77, 0.59, 0.61, 0.51, 0.22, 0.1 ,\n",
       "       0.86, 0.82, 0.63, 0.21, 0.52, 0.79, 0.84, 0.88, 0.49, 0.56, 0.71,\n",
       "       0.83, 0.7 , 0.98, 0.83, 0.91, 0.85, 0.5 , 0.16, 0.7 , 0.77, 0.78,\n",
       "       0.47, 0.96, 0.81, 0.65, 0.15, 0.59, 0.7 , 0.98, 0.67, 0.84, 0.7 ,\n",
       "       0.87, 0.94, 0.99, 0.34, 0.75, 0.75, 0.81, 0.84, 0.35, 0.12, 0.61,\n",
       "       0.86, 0.61, 0.62, 0.75, 0.66, 0.82, 0.32, 0.8 , 0.78, 0.94, 0.84,\n",
       "       0.81, 0.78, 0.66, 0.81, 0.91, 0.65, 0.79, 0.95, 0.68, 0.38, 0.77,\n",
       "       0.86, 0.28, 0.56, 0.9 , 0.8 , 0.15, 0.63, 0.89, 0.85, 0.79, 0.55,\n",
       "       0.83, 0.86, 0.28, 0.89, 0.76, 0.87, 0.6 , 0.85, 0.58, 0.99, 0.82,\n",
       "       0.84, 0.64, 0.57, 0.71])"
      ]
     },
     "execution_count": 20,
     "metadata": {},
     "output_type": "execute_result"
    }
   ],
   "source": [
    "scores"
   ]
  },
  {
   "cell_type": "code",
   "execution_count": 18,
   "metadata": {},
   "outputs": [],
   "source": [
    "data2=pd.read_csv('Test_Loan_Home.csv')"
   ]
  },
  {
   "cell_type": "code",
   "execution_count": 19,
   "metadata": {},
   "outputs": [],
   "source": [
    "scores=modelPipeline.predict_proba(data2[columnsX])[:,-1]"
   ]
  },
  {
   "cell_type": "code",
   "execution_count": null,
   "metadata": {},
   "outputs": [],
   "source": [
    "scoreOutput={j:k for j,k in zip(data2['Loan_ID'],scores)}"
   ]
  },
  {
   "cell_type": "code",
   "execution_count": 21,
   "metadata": {},
   "outputs": [
    {
     "data": {
      "text/plain": [
       "['modelPipeline.pkl']"
      ]
     },
     "execution_count": 21,
     "metadata": {},
     "output_type": "execute_result"
    }
   ],
   "source": [
    "import joblib\n",
    "joblib.dump(modelPipeline,'modelPipeline.pkl')"
   ]
  },
  {
   "cell_type": "code",
   "execution_count": null,
   "metadata": {},
   "outputs": [],
   "source": []
  }
 ],
 "metadata": {
  "kernelspec": {
   "display_name": "Python [conda env:AryamaanEnv] *",
   "language": "python",
   "name": "conda-env-AryamaanEnv-py"
  },
  "language_info": {
   "codemirror_mode": {
    "name": "ipython",
    "version": 3
   },
   "file_extension": ".py",
   "mimetype": "text/x-python",
   "name": "python",
   "nbconvert_exporter": "python",
   "pygments_lexer": "ipython3",
   "version": "3.7.9"
  }
 },
 "nbformat": 4,
 "nbformat_minor": 4
}
