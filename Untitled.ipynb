{
 "cells": [
  {
   "cell_type": "code",
   "execution_count": 14,
   "metadata": {},
   "outputs": [],
   "source": [
    "import pandas as pd\n",
    "import numpy as np\n",
    "from sklearn.feature_extraction.text import CountVectorizer\n",
    "from sklearn.feature_extraction.text import TfidfVectorizer\n",
    "from sklearn.feature_extraction.text import HashingVectorizer\n",
    "from sklearn.model_selection import train_test_split\n",
    "from sklearn.naive_bayes import MultinomialNB\n",
    "from sklearn.metrics import classification_report\n",
    "from sklearn.naive_bayes import *\n",
    "from sklearn.dummy import *\n",
    "from sklearn.ensemble import *\n",
    "from sklearn.neighbors import *\n",
    "from sklearn.tree import *\n",
    "from sklearn.calibration import *\n",
    "from sklearn.linear_model import *\n",
    "from sklearn.multiclass import *\n",
    "from sklearn.svm import *\n"
   ]
  },
  {
   "cell_type": "code",
   "execution_count": 15,
   "metadata": {},
   "outputs": [
    {
     "data": {
      "text/html": [
       "<div>\n",
       "<style scoped>\n",
       "    .dataframe tbody tr th:only-of-type {\n",
       "        vertical-align: middle;\n",
       "    }\n",
       "\n",
       "    .dataframe tbody tr th {\n",
       "        vertical-align: top;\n",
       "    }\n",
       "\n",
       "    .dataframe thead th {\n",
       "        text-align: right;\n",
       "    }\n",
       "</style>\n",
       "<table border=\"1\" class=\"dataframe\">\n",
       "  <thead>\n",
       "    <tr style=\"text-align: right;\">\n",
       "      <th></th>\n",
       "      <th>v1</th>\n",
       "      <th>v2</th>\n",
       "      <th>Unnamed: 2</th>\n",
       "      <th>Unnamed: 3</th>\n",
       "      <th>Unnamed: 4</th>\n",
       "    </tr>\n",
       "  </thead>\n",
       "  <tbody>\n",
       "    <tr>\n",
       "      <th>0</th>\n",
       "      <td>ham</td>\n",
       "      <td>Go until jurong point, crazy.. Available only ...</td>\n",
       "      <td>NaN</td>\n",
       "      <td>NaN</td>\n",
       "      <td>NaN</td>\n",
       "    </tr>\n",
       "    <tr>\n",
       "      <th>1</th>\n",
       "      <td>ham</td>\n",
       "      <td>Ok lar... Joking wif u oni...</td>\n",
       "      <td>NaN</td>\n",
       "      <td>NaN</td>\n",
       "      <td>NaN</td>\n",
       "    </tr>\n",
       "    <tr>\n",
       "      <th>2</th>\n",
       "      <td>spam</td>\n",
       "      <td>Free entry in 2 a wkly comp to win FA Cup fina...</td>\n",
       "      <td>NaN</td>\n",
       "      <td>NaN</td>\n",
       "      <td>NaN</td>\n",
       "    </tr>\n",
       "    <tr>\n",
       "      <th>3</th>\n",
       "      <td>ham</td>\n",
       "      <td>U dun say so early hor... U c already then say...</td>\n",
       "      <td>NaN</td>\n",
       "      <td>NaN</td>\n",
       "      <td>NaN</td>\n",
       "    </tr>\n",
       "    <tr>\n",
       "      <th>4</th>\n",
       "      <td>ham</td>\n",
       "      <td>Nah I don't think he goes to usf, he lives aro...</td>\n",
       "      <td>NaN</td>\n",
       "      <td>NaN</td>\n",
       "      <td>NaN</td>\n",
       "    </tr>\n",
       "  </tbody>\n",
       "</table>\n",
       "</div>"
      ],
      "text/plain": [
       "     v1                                                 v2 Unnamed: 2  \\\n",
       "0   ham  Go until jurong point, crazy.. Available only ...        NaN   \n",
       "1   ham                      Ok lar... Joking wif u oni...        NaN   \n",
       "2  spam  Free entry in 2 a wkly comp to win FA Cup fina...        NaN   \n",
       "3   ham  U dun say so early hor... U c already then say...        NaN   \n",
       "4   ham  Nah I don't think he goes to usf, he lives aro...        NaN   \n",
       "\n",
       "  Unnamed: 3 Unnamed: 4  \n",
       "0        NaN        NaN  \n",
       "1        NaN        NaN  \n",
       "2        NaN        NaN  \n",
       "3        NaN        NaN  \n",
       "4        NaN        NaN  "
      ]
     },
     "execution_count": 15,
     "metadata": {},
     "output_type": "execute_result"
    }
   ],
   "source": [
    "df=pd.read_csv('spam.csv',encoding='latin-1')\n",
    "df.head()"
   ]
  },
  {
   "cell_type": "code",
   "execution_count": 16,
   "metadata": {},
   "outputs": [
    {
     "data": {
      "text/html": [
       "<div>\n",
       "<style scoped>\n",
       "    .dataframe tbody tr th:only-of-type {\n",
       "        vertical-align: middle;\n",
       "    }\n",
       "\n",
       "    .dataframe tbody tr th {\n",
       "        vertical-align: top;\n",
       "    }\n",
       "\n",
       "    .dataframe thead th {\n",
       "        text-align: right;\n",
       "    }\n",
       "</style>\n",
       "<table border=\"1\" class=\"dataframe\">\n",
       "  <thead>\n",
       "    <tr style=\"text-align: right;\">\n",
       "      <th></th>\n",
       "      <th>label</th>\n",
       "      <th>SMS</th>\n",
       "    </tr>\n",
       "  </thead>\n",
       "  <tbody>\n",
       "    <tr>\n",
       "      <th>0</th>\n",
       "      <td>0</td>\n",
       "      <td>Go until jurong point, crazy.. Available only ...</td>\n",
       "    </tr>\n",
       "    <tr>\n",
       "      <th>1</th>\n",
       "      <td>0</td>\n",
       "      <td>Ok lar... Joking wif u oni...</td>\n",
       "    </tr>\n",
       "    <tr>\n",
       "      <th>2</th>\n",
       "      <td>1</td>\n",
       "      <td>Free entry in 2 a wkly comp to win FA Cup fina...</td>\n",
       "    </tr>\n",
       "    <tr>\n",
       "      <th>3</th>\n",
       "      <td>0</td>\n",
       "      <td>U dun say so early hor... U c already then say...</td>\n",
       "    </tr>\n",
       "    <tr>\n",
       "      <th>4</th>\n",
       "      <td>0</td>\n",
       "      <td>Nah I don't think he goes to usf, he lives aro...</td>\n",
       "    </tr>\n",
       "  </tbody>\n",
       "</table>\n",
       "</div>"
      ],
      "text/plain": [
       "   label                                                SMS\n",
       "0      0  Go until jurong point, crazy.. Available only ...\n",
       "1      0                      Ok lar... Joking wif u oni...\n",
       "2      1  Free entry in 2 a wkly comp to win FA Cup fina...\n",
       "3      0  U dun say so early hor... U c already then say...\n",
       "4      0  Nah I don't think he goes to usf, he lives aro..."
      ]
     },
     "execution_count": 16,
     "metadata": {},
     "output_type": "execute_result"
    }
   ],
   "source": [
    "df.drop(['Unnamed: 2', 'Unnamed: 3', 'Unnamed: 4'], axis=1, inplace=True)\n",
    "df['label'] = df['v1'].map({'ham': 0, 'spam': 1})\n",
    "df['SMS']=df['v2']\n",
    "df.drop(['v1','v2'],axis=1,inplace=True)\n",
    "train_data=df[:4400]\n",
    "test_data=df[4400:]\n",
    "df.head()"
   ]
  },
  {
   "cell_type": "code",
   "execution_count": 22,
   "metadata": {},
   "outputs": [],
   "source": [
    "def perform(classifiers,vectorizers,train_data,test_data):\n",
    "    max_score=0\n",
    "    max_name=0\n",
    "    for classifier in classifiers:\n",
    "        for vectorizer in vectorizers:\n",
    "            #train\n",
    "            vectorize_text=vectorizer.fit_transform(train_data.SMS)\n",
    "            classifier.fit(vectorize_text,train_data.label)\n",
    "            \n",
    "            #score\n",
    "            vectorize_text=vectorizer.transform(test_data.SMS)\n",
    "            score=classifier.score(vectorize_text,test_data.label)\n",
    "            name=classifier.__class__.__name__ + 'with' + vectorizer.__class__.__name__\n",
    "            print(name,score)\n",
    "            \n",
    "        if score>max_score:\n",
    "            max_score=score\n",
    "            max_name=name\n",
    "            print ('===========================================')\n",
    "            print ('===========================================')\n",
    "            print(max_name,max_score)\n",
    "            print ('===========================================')\n",
    "            print ('===========================================')\n",
    "            "
   ]
  },
  {
   "cell_type": "code",
   "execution_count": 23,
   "metadata": {},
   "outputs": [],
   "source": [
    "classifiers=[\n",
    "    BernoulliNB(),\n",
    "    RandomForestClassifier(n_estimators=100,n_jobs=-1),\n",
    "    AdaBoostClassifier(),\n",
    "    BaggingClassifier(),\n",
    "    ExtraTreesClassifier(),\n",
    "    GradientBoostingClassifier(),\n",
    "    DecisionTreeClassifier(),\n",
    "    CalibratedClassifierCV(),\n",
    "    DummyClassifier(),\n",
    "    PassiveAggressiveClassifier(),\n",
    "    RidgeClassifier(),\n",
    "    SGDClassifier(),\n",
    "    OneVsRestClassifier(SVC(kernel='linear')),\n",
    "    OneVsRestClassifier(LogisticRegression()),\n",
    "    KNeighborsClassifier()\n",
    "]"
   ]
  },
  {
   "cell_type": "code",
   "execution_count": 24,
   "metadata": {},
   "outputs": [],
   "source": [
    "vectorizers=[\n",
    "    CountVectorizer(),\n",
    "    TfidfVectorizer(),\n",
    "    HashingVectorizer()\n",
    "]"
   ]
  },
  {
   "cell_type": "code",
   "execution_count": 25,
   "metadata": {},
   "outputs": [
    {
     "name": "stdout",
     "output_type": "stream",
     "text": [
      "BernoulliNBwithCountVectorizer 0.9778156996587031\n",
      "BernoulliNBwithTfidfVectorizer 0.9778156996587031\n",
      "BernoulliNBwithHashingVectorizer 0.8728668941979523\n",
      "===========================================\n",
      "===========================================\n",
      "BernoulliNBwithHashingVectorizer 0.8728668941979523\n",
      "===========================================\n",
      "===========================================\n",
      "RandomForestClassifierwithCountVectorizer 0.9744027303754266\n",
      "RandomForestClassifierwithTfidfVectorizer 0.9744027303754266\n",
      "RandomForestClassifierwithHashingVectorizer 0.9650170648464164\n",
      "===========================================\n",
      "===========================================\n",
      "RandomForestClassifierwithHashingVectorizer 0.9650170648464164\n",
      "===========================================\n",
      "===========================================\n",
      "AdaBoostClassifierwithCountVectorizer 0.9718430034129693\n",
      "AdaBoostClassifierwithTfidfVectorizer 0.9692832764505119\n",
      "AdaBoostClassifierwithHashingVectorizer 0.9735494880546075\n",
      "===========================================\n",
      "===========================================\n",
      "AdaBoostClassifierwithHashingVectorizer 0.9735494880546075\n",
      "===========================================\n",
      "===========================================\n",
      "BaggingClassifierwithCountVectorizer 0.9650170648464164\n",
      "BaggingClassifierwithTfidfVectorizer 0.9658703071672355\n",
      "BaggingClassifierwithHashingVectorizer 0.9667235494880546\n",
      "ExtraTreesClassifierwithCountVectorizer 0.9803754266211604\n",
      "ExtraTreesClassifierwithTfidfVectorizer 0.9803754266211604\n",
      "ExtraTreesClassifierwithHashingVectorizer 0.9726962457337884\n",
      "GradientBoostingClassifierwithCountVectorizer 0.9692832764505119\n",
      "GradientBoostingClassifierwithTfidfVectorizer 0.9667235494880546\n",
      "GradientBoostingClassifierwithHashingVectorizer 0.9726962457337884\n",
      "DecisionTreeClassifierwithCountVectorizer 0.9675767918088737\n",
      "DecisionTreeClassifierwithTfidfVectorizer 0.9573378839590444\n",
      "DecisionTreeClassifierwithHashingVectorizer 0.9607508532423208\n",
      "CalibratedClassifierCVwithCountVectorizer 0.9863481228668942\n",
      "CalibratedClassifierCVwithTfidfVectorizer 0.9863481228668942\n",
      "CalibratedClassifierCVwithHashingVectorizer 0.9820819112627986\n",
      "===========================================\n",
      "===========================================\n",
      "CalibratedClassifierCVwithHashingVectorizer 0.9820819112627986\n",
      "===========================================\n",
      "===========================================\n",
      "DummyClassifierwithCountVectorizer 0.7696245733788396\n"
     ]
    },
    {
     "name": "stderr",
     "output_type": "stream",
     "text": [
      "C:\\Users\\User\\anaconda3\\envs\\AryamaanEnv\\lib\\site-packages\\sklearn\\dummy.py:132: FutureWarning: The default value of strategy will change from stratified to prior in 0.24.\n",
      "  \"stratified to prior in 0.24.\", FutureWarning)\n"
     ]
    },
    {
     "name": "stdout",
     "output_type": "stream",
     "text": [
      "DummyClassifierwithTfidfVectorizer 0.7670648464163823\n",
      "DummyClassifierwithHashingVectorizer 0.7738907849829352\n",
      "PassiveAggressiveClassifierwithCountVectorizer 0.9829351535836177\n",
      "PassiveAggressiveClassifierwithTfidfVectorizer 0.984641638225256\n",
      "PassiveAggressiveClassifierwithHashingVectorizer 0.984641638225256\n",
      "===========================================\n",
      "===========================================\n",
      "PassiveAggressiveClassifierwithHashingVectorizer 0.984641638225256\n",
      "===========================================\n",
      "===========================================\n",
      "RidgeClassifierwithCountVectorizer 0.9812286689419796\n",
      "RidgeClassifierwithTfidfVectorizer 0.9829351535836177\n",
      "RidgeClassifierwithHashingVectorizer 0.9820819112627986\n",
      "SGDClassifierwithCountVectorizer 0.9820819112627986\n",
      "SGDClassifierwithTfidfVectorizer 0.9863481228668942\n",
      "SGDClassifierwithHashingVectorizer 0.9837883959044369\n",
      "OneVsRestClassifierwithCountVectorizer 0.9863481228668942\n",
      "OneVsRestClassifierwithTfidfVectorizer 0.9880546075085325\n",
      "OneVsRestClassifierwithHashingVectorizer 0.9829351535836177\n",
      "OneVsRestClassifierwithCountVectorizer 0.9837883959044369\n",
      "OneVsRestClassifierwithTfidfVectorizer 0.9752559726962458\n",
      "OneVsRestClassifierwithHashingVectorizer 0.9684300341296929\n",
      "KNeighborsClassifierwithCountVectorizer 0.924061433447099\n",
      "KNeighborsClassifierwithTfidfVectorizer 0.962457337883959\n",
      "KNeighborsClassifierwithHashingVectorizer 0.9607508532423208\n"
     ]
    }
   ],
   "source": [
    "perform(\n",
    "    classifiers,\n",
    "    vectorizers,\n",
    "    train_data,\n",
    "    test_data\n",
    ")"
   ]
  },
  {
   "cell_type": "code",
   "execution_count": 26,
   "metadata": {},
   "outputs": [
    {
     "data": {
      "text/plain": [
       "PassiveAggressiveClassifier()"
      ]
     },
     "execution_count": 26,
     "metadata": {},
     "output_type": "execute_result"
    }
   ],
   "source": [
    "#train the classifier with best accuracy\n",
    "Classifier=PassiveAggressiveClassifier()\n",
    "Vectorizer=HashingVectorizer()\n",
    "vectorize_text=Vectorizer.fit_transform(train_data.SMS)\n",
    "Classifier.fit(vectorize_text,train_data.label)"
   ]
  },
  {
   "cell_type": "code",
   "execution_count": 92,
   "metadata": {},
   "outputs": [],
   "source": [
    "SMS=' You will earn free membership. Text C to avail your offer!'\n",
    "vectorize_message=Vectorizer.transform([SMS])\n",
    "predict=Classifier.predict(vectorize_message)[0]"
   ]
  },
  {
   "cell_type": "code",
   "execution_count": 94,
   "metadata": {},
   "outputs": [
    {
     "name": "stdout",
     "output_type": "stream",
     "text": [
      "Seems doubtful!!Please confirm and then avail this offer\n"
     ]
    }
   ],
   "source": [
    "if predict== 0:\n",
    "    print('Seems doubtful!!Please confirm and then avail this offer')\n",
    "    \n",
    "else:\n",
    "    print('It is clearly a spam.')\n",
    "    "
   ]
  },
  {
   "cell_type": "code",
   "execution_count": null,
   "metadata": {},
   "outputs": [],
   "source": []
  }
 ],
 "metadata": {
  "kernelspec": {
   "display_name": "Python [conda env:AryamaanEnv] *",
   "language": "python",
   "name": "conda-env-AryamaanEnv-py"
  },
  "language_info": {
   "codemirror_mode": {
    "name": "ipython",
    "version": 3
   },
   "file_extension": ".py",
   "mimetype": "text/x-python",
   "name": "python",
   "nbconvert_exporter": "python",
   "pygments_lexer": "ipython3",
   "version": "3.7.9"
  }
 },
 "nbformat": 4,
 "nbformat_minor": 4
}
